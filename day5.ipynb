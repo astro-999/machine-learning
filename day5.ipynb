{
 "cells": [
  {
   "cell_type": "code",
   "execution_count": 5,
   "id": "78e1b507",
   "metadata": {},
   "outputs": [
    {
     "name": "stdout",
     "output_type": "stream",
     "text": [
      "{1: 1, 3: 9, 7: 49}\n"
     ]
    }
   ],
   "source": [
    "l1 = [1,2,3,7,8]\n",
    "l2 = {x : x**2 for x in l1 if x%2 != 0 }\n",
    "print(l2)"
   ]
  },
  {
   "cell_type": "code",
   "execution_count": 6,
   "id": "f7d76d72",
   "metadata": {},
   "outputs": [
    {
     "name": "stdout",
     "output_type": "stream",
     "text": [
      "[7, 8, 9]\n"
     ]
    }
   ],
   "source": [
    "d1 = {1 : [1,2,3],2:[4,5,6],1:[7,8,9]}\n",
    "print(d1[1])"
   ]
  },
  {
   "cell_type": "code",
   "execution_count": 8,
   "id": "f59bb0fb",
   "metadata": {},
   "outputs": [
    {
     "name": "stdout",
     "output_type": "stream",
     "text": [
      "{(22, 64, 71): 'enemies attack', (369, 241, 77): 'proceeds to next'}\n"
     ]
    }
   ],
   "source": [
    "d2 = {(22,64,71):\"enemies attack\",(369,241,77):\"proceeds to next\"}\n",
    "print(d2)"
   ]
  },
  {
   "cell_type": "code",
   "execution_count": 11,
   "id": "e9091fce",
   "metadata": {},
   "outputs": [
    {
     "name": "stdout",
     "output_type": "stream",
     "text": [
      " BMW is driving\n",
      "(<class '__main__.BMW'>, <class '__main__.Vehicles'>, <class 'abc.ABC'>, <class 'object'>)\n"
     ]
    }
   ],
   "source": [
    "from abc import ABC, abstractmethod\n",
    "class Vehicles(ABC):\n",
    "    @abstractmethod\n",
    "    def drive(self):\n",
    "        pass\n",
    "class BMW(Vehicles):\n",
    "    def drive(self):\n",
    "        return \" BMW is driving\"\n",
    "benz = BMW()\n",
    "print(benz.drive())\n",
    "print(BMW.__mro__)"
   ]
  },
  {
   "cell_type": "code",
   "execution_count": 18,
   "id": "71ea118a",
   "metadata": {},
   "outputs": [
    {
     "name": "stdout",
     "output_type": "stream",
     "text": [
      "Name: astro, Age: 19, Grade: Bachelor\n"
     ]
    }
   ],
   "source": [
    "class Parent:\n",
    "    def __init__(self, name, age):\n",
    "        self.name = name\n",
    "        self.age = age\n",
    "    def show(self):\n",
    "        pass\n",
    "        \n",
    "class Child(Parent):\n",
    "    def __init__(self, name, age, grade):\n",
    "        super().__init__(name, age)\n",
    "        self.grade = grade\n",
    "        \n",
    "    def __str__(self):\n",
    "        return f\"Name: {self.name}, Age: {self.age}, Grade: {self.grade}\"\n",
    "    # def show(self):\n",
    "    #     print(self.name , self.age, self.grade)\n",
    "p1 = Child(\"astro\",19,\"Bachelor\")\n",
    "# p1.show()\n",
    "print(p1)"
   ]
  },
  {
   "cell_type": "code",
   "execution_count": 23,
   "id": "7e2936f9",
   "metadata": {},
   "outputs": [
    {
     "data": {
      "text/plain": [
       "(3, 6)"
      ]
     },
     "execution_count": 23,
     "metadata": {},
     "output_type": "execute_result"
    }
   ],
   "source": [
    "class Point:\n",
    "    def __init__(self, x, y):\n",
    "        self.x = x\n",
    "        self.y = y\n",
    "    def __add__(self, other):\n",
    "        return (self.x + other.x, self.y + other.y)\n",
    "p1 = Point(1,2)\n",
    "p2 = Point(2,4)\n",
    "p1 + p2"
   ]
  },
  {
   "cell_type": "code",
   "execution_count": null,
   "id": "9d6ef52b",
   "metadata": {},
   "outputs": [],
   "source": []
  }
 ],
 "metadata": {
  "kernelspec": {
   "display_name": "env_name",
   "language": "python",
   "name": "python3"
  },
  "language_info": {
   "codemirror_mode": {
    "name": "ipython",
    "version": 3
   },
   "file_extension": ".py",
   "mimetype": "text/x-python",
   "name": "python",
   "nbconvert_exporter": "python",
   "pygments_lexer": "ipython3",
   "version": "3.10.16"
  }
 },
 "nbformat": 4,
 "nbformat_minor": 5
}
