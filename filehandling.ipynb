{
 "cells": [
  {
   "cell_type": "code",
   "execution_count": null,
   "id": "b442222b",
   "metadata": {},
   "outputs": [],
   "source": [
    "class student:\n",
    "    # def __init__(self,name,age,u_id):\n",
    "    #     self.name = name \n",
    "    #     self.age = age\n",
    "    #     self.u_id = u_id\n",
    "    def getdetails(self):\n",
    "        self.name = input(\"Enter the name:\")\n",
    "        age = input(\"Enter the age\")\n",
    "        self.u_id = input(\"enter your university id \")\n",
    "    \n",
    "    def showdetails(self):\n",
    "        print(f'{self.name}\\n{self.age}')\n",
    "obj = student()\n",
    "\n",
    "obj.getdetails()\n",
    "obj.showdetails()"
   ]
  },
  {
   "cell_type": "code",
   "execution_count": null,
   "id": "2b4485c7",
   "metadata": {},
   "outputs": [],
   "source": []
  }
 ],
 "metadata": {
  "kernelspec": {
   "display_name": "env_name",
   "language": "python",
   "name": "python3"
  },
  "language_info": {
   "codemirror_mode": {
    "name": "ipython",
    "version": 3
   },
   "file_extension": ".py",
   "mimetype": "text/x-python",
   "name": "python",
   "nbconvert_exporter": "python",
   "pygments_lexer": "ipython3",
   "version": "3.10.16"
  }
 },
 "nbformat": 4,
 "nbformat_minor": 5
}
