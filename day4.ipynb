{
 "cells": [
  {
   "cell_type": "code",
   "execution_count": 1,
   "id": "94cee947",
   "metadata": {},
   "outputs": [
    {
     "data": {
      "text/plain": [
       "25"
      ]
     },
     "execution_count": 1,
     "metadata": {},
     "output_type": "execute_result"
    }
   ],
   "source": [
    "def  cal(num1,func):\n",
    "    return func(num1)\n",
    "cal(5,lambda x:x**2)"
   ]
  },
  {
   "cell_type": "code",
   "execution_count": null,
   "id": "8a7af6de",
   "metadata": {},
   "outputs": [
    {
     "name": "stdout",
     "output_type": "stream",
     "text": [
      "4 5\n"
     ]
    }
   ],
   "source": [
    "def func(a, b):\n",
    "    print(a, b)\n",
    "    \n",
    "c= 4 \n",
    "d = 5\n",
    "func(b = d,a = c)  "
   ]
  },
  {
   "cell_type": "code",
   "execution_count": 18,
   "id": "32980c57",
   "metadata": {},
   "outputs": [
    {
     "name": "stdout",
     "output_type": "stream",
     "text": [
      "{'other': 12345, 'next': 'hello'}\n",
      "21\n"
     ]
    }
   ],
   "source": [
    "def number(*numd, **other):\n",
    "    print(other)\n",
    "    return sum(numd)\n",
    "\n",
    "print(number(1, 2, 3,7,8, other  = 12345, next  = 'hello'))  "
   ]
  },
  {
   "cell_type": "code",
   "execution_count": 24,
   "id": "50f4b19b",
   "metadata": {},
   "outputs": [
    {
     "name": "stdout",
     "output_type": "stream",
     "text": [
      "15\n"
     ]
    }
   ],
   "source": [
    "x = lambda a : a + 10 \n",
    "print(x(5))\n"
   ]
  }
 ],
 "metadata": {
  "kernelspec": {
   "display_name": "env_name",
   "language": "python",
   "name": "python3"
  },
  "language_info": {
   "codemirror_mode": {
    "name": "ipython",
    "version": 3
   },
   "file_extension": ".py",
   "mimetype": "text/x-python",
   "name": "python",
   "nbconvert_exporter": "python",
   "pygments_lexer": "ipython3",
   "version": "3.10.16"
  }
 },
 "nbformat": 4,
 "nbformat_minor": 5
}
