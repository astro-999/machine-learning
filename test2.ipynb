{
 "cells": [
  {
   "cell_type": "code",
   "execution_count": 2,
   "id": "19caf943",
   "metadata": {},
   "outputs": [
    {
     "name": "stdout",
     "output_type": "stream",
     "text": [
      "hello\n"
     ]
    }
   ],
   "source": [
    "h =\"hello\"\n",
    "print(h)"
   ]
  },
  {
   "cell_type": "code",
   "execution_count": 4,
   "id": "a4201632",
   "metadata": {},
   "outputs": [
    {
     "name": "stdout",
     "output_type": "stream",
     "text": [
      "hi\n",
      "hello\n",
      "namaste\n"
     ]
    }
   ],
   "source": [
    "list1 = ['hi', 'hello', 'namaste']\n",
    "for i in list1:\n",
    "    print(i)"
   ]
  },
  {
   "cell_type": "code",
   "execution_count": 6,
   "id": "3b013720",
   "metadata": {},
   "outputs": [
    {
     "name": "stdout",
     "output_type": "stream",
     "text": [
      "hello world\n",
      "hello world\n",
      "hello world\n",
      "hello world\n"
     ]
    }
   ],
   "source": [
    "i = 0 \n",
    "while i < 4:\n",
    "    print('hello world')\n",
    "    i += 1"
   ]
  },
  {
   "cell_type": "code",
   "execution_count": 8,
   "id": "e80c7d8b",
   "metadata": {},
   "outputs": [
    {
     "name": "stdout",
     "output_type": "stream",
     "text": [
      "hello world\n",
      "hello world\n",
      "hello world\n",
      "hello world\n"
     ]
    }
   ],
   "source": [
    "for i in range(0,4):\n",
    "    print('hello world')\n"
   ]
  },
  {
   "cell_type": "code",
   "execution_count": 17,
   "id": "df828068",
   "metadata": {},
   "outputs": [
    {
     "name": "stdout",
     "output_type": "stream",
     "text": [
      "index :0  element :ram\n",
      "index :1  element :2\n",
      "index :2  element :ktm\n"
     ]
    }
   ],
   "source": [
    "l1 = ['ram', 2, 'ktm']\n",
    "for some_value in enumerate(l1):\n",
    "    # print(type(some_value))\n",
    "    # print(some_value)\n",
    "    index,element = some_value\n",
    "    print(f'index :{index}  element :{element}')"
   ]
  },
  {
   "cell_type": "code",
   "execution_count": 19,
   "id": "0d2133f6",
   "metadata": {},
   "outputs": [
    {
     "name": "stdout",
     "output_type": "stream",
     "text": [
      "8\n"
     ]
    }
   ],
   "source": [
    "def add_ab(a,b):\n",
    "    return a+b\n",
    "def sub_ab(a,b):\n",
    "    return a-b\n",
    "def mul_ab(a,b):\n",
    "    return a*b\n",
    "def operator(op):\n",
    "    if op == 'add':\n",
    "        return add_ab\n",
    "    if op == 'sub':\n",
    "        return sub_ab\n",
    "    if op == 'mul':\n",
    "        return mul_ab\n",
    "    \n",
    "x = operator('add')\n",
    "print(x(5,3))"
   ]
  }
 ],
 "metadata": {
  "kernelspec": {
   "display_name": "env_name",
   "language": "python",
   "name": "python3"
  },
  "language_info": {
   "codemirror_mode": {
    "name": "ipython",
    "version": 3
   },
   "file_extension": ".py",
   "mimetype": "text/x-python",
   "name": "python",
   "nbconvert_exporter": "python",
   "pygments_lexer": "ipython3",
   "version": "3.10.16"
  }
 },
 "nbformat": 4,
 "nbformat_minor": 5
}
